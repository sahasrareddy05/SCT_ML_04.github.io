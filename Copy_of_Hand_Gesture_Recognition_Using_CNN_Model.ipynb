{
  "metadata": {
    "accelerator": "GPU",
    "colab": {
      "provenance": []
    },
    "gpuClass": "standard",
    "kernelspec": {
      "name": "python3",
      "display_name": "Python 3",
      "language": "python"
    },
    "language_info": {
      "name": "python",
      "version": "3.10.13",
      "mimetype": "text/x-python",
      "codemirror_mode": {
        "name": "ipython",
        "version": 3
      },
      "pygments_lexer": "ipython3",
      "nbconvert_exporter": "python",
      "file_extension": ".py"
    },
    "kaggle": {
      "accelerator": "gpu",
      "dataSources": [
        {
          "sourceId": 61155,
          "sourceType": "datasetVersion",
          "datasetId": 39466
        }
      ],
      "dockerImageVersionId": 30747,
      "isInternetEnabled": true,
      "language": "python",
      "sourceType": "notebook",
      "isGpuEnabled": true
    }
  },
  "nbformat_minor": 0,
  "nbformat": 4,
  "cells": [
    {
      "source": [
        "\n",
        "# IMPORTANT: RUN THIS CELL IN ORDER TO IMPORT YOUR KAGGLE DATA SOURCES\n",
        "# TO THE CORRECT LOCATION (/kaggle/input) IN YOUR NOTEBOOK,\n",
        "# THEN FEEL FREE TO DELETE THIS CELL.\n",
        "# NOTE: THIS NOTEBOOK ENVIRONMENT DIFFERS FROM KAGGLE'S PYTHON\n",
        "# ENVIRONMENT SO THERE MAY BE MISSING LIBRARIES USED BY YOUR\n",
        "# NOTEBOOK.\n",
        "\n",
        "import os\n",
        "import sys\n",
        "from tempfile import NamedTemporaryFile\n",
        "from urllib.request import urlopen\n",
        "from urllib.parse import unquote, urlparse\n",
        "from urllib.error import HTTPError\n",
        "from zipfile import ZipFile\n",
        "import tarfile\n",
        "import shutil\n",
        "\n",
        "CHUNK_SIZE = 40960\n",
        "DATA_SOURCE_MAPPING = 'leapgestrecog:https%3A%2F%2Fstorage.googleapis.com%2Fkaggle-data-sets%2F39466%2F61155%2Fbundle%2Farchive.zip%3FX-Goog-Algorithm%3DGOOG4-RSA-SHA256%26X-Goog-Credential%3Dgcp-kaggle-com%2540kaggle-161607.iam.gserviceaccount.com%252F20240923%252Fauto%252Fstorage%252Fgoog4_request%26X-Goog-Date%3D20240923T164543Z%26X-Goog-Expires%3D259200%26X-Goog-SignedHeaders%3Dhost%26X-Goog-Signature%3D7a62657a46a7f6ea1bb7aef7805508fc22baf17169f3f26eb69158e216b0b01223f0ca4cff1d4d4579c373dad4861dc7ba81fd698a47c4c1fb7941469e461e916b02f68af207b533eae1596251d36001f8570ba218d38abf22cd0cbf3fbc82f79dcf0da50a6cc28c48537dd3b364f8f2ef49940fd73dd748e8a464e3553b9f669761ce2ff7f3bcb5a6664213cce9504958f2c4e87fc13b41bd174760a214f7a10567bb104cedb6fe29a01578fcc10118fcba07eaf58f0beb9d089e7a7ca19bcba92c5e6f3cd96a6b9de20791a96ace6003a89a1b903de89ab826c5b76514c2507ea58fe593d237acfa852b045d8528789ae331361f3c51d36245a84b971cb14b'\n",
        "\n",
        "KAGGLE_INPUT_PATH='/kaggle/input'\n",
        "KAGGLE_WORKING_PATH='/kaggle/working'\n",
        "KAGGLE_SYMLINK='kaggle'\n",
        "\n",
        "!umount /kaggle/input/ 2> /dev/null\n",
        "shutil.rmtree('/kaggle/input', ignore_errors=True)\n",
        "os.makedirs(KAGGLE_INPUT_PATH, 0o777, exist_ok=True)\n",
        "os.makedirs(KAGGLE_WORKING_PATH, 0o777, exist_ok=True)\n",
        "\n",
        "try:\n",
        "  os.symlink(KAGGLE_INPUT_PATH, os.path.join(\"..\", 'input'), target_is_directory=True)\n",
        "except FileExistsError:\n",
        "  pass\n",
        "try:\n",
        "  os.symlink(KAGGLE_WORKING_PATH, os.path.join(\"..\", 'working'), target_is_directory=True)\n",
        "except FileExistsError:\n",
        "  pass\n",
        "\n",
        "for data_source_mapping in DATA_SOURCE_MAPPING.split(','):\n",
        "    directory, download_url_encoded = data_source_mapping.split(':')\n",
        "    download_url = unquote(download_url_encoded)\n",
        "    filename = urlparse(download_url).path\n",
        "    destination_path = os.path.join(KAGGLE_INPUT_PATH, directory)\n",
        "    try:\n",
        "        with urlopen(download_url) as fileres, NamedTemporaryFile() as tfile:\n",
        "            total_length = fileres.headers['content-length']\n",
        "            print(f'Downloading {directory}, {total_length} bytes compressed')\n",
        "            dl = 0\n",
        "            data = fileres.read(CHUNK_SIZE)\n",
        "            while len(data) > 0:\n",
        "                dl += len(data)\n",
        "                tfile.write(data)\n",
        "                done = int(50 * dl / int(total_length))\n",
        "                sys.stdout.write(f\"\\r[{'=' * done}{' ' * (50-done)}] {dl} bytes downloaded\")\n",
        "                sys.stdout.flush()\n",
        "                data = fileres.read(CHUNK_SIZE)\n",
        "            if filename.endswith('.zip'):\n",
        "              with ZipFile(tfile) as zfile:\n",
        "                zfile.extractall(destination_path)\n",
        "            else:\n",
        "              with tarfile.open(tfile.name) as tarfile:\n",
        "                tarfile.extractall(destination_path)\n",
        "            print(f'\\nDownloaded and uncompressed: {directory}')\n",
        "    except HTTPError as e:\n",
        "        print(f'Failed to load (likely expired) {download_url} to path {destination_path}')\n",
        "        continue\n",
        "    except OSError as e:\n",
        "        print(f'Failed to load {download_url} to path {destination_path}')\n",
        "        continue\n",
        "\n",
        "print('Data source import complete.')\n"
      ],
      "metadata": {
        "id": "m4FUkUn1xmJ6"
      },
      "cell_type": "code",
      "outputs": [],
      "execution_count": null
    },
    {
      "cell_type": "markdown",
      "source": [
        "# Import necessary libraries"
      ],
      "metadata": {
        "id": "FqIYAW7exmJ-"
      }
    },
    {
      "cell_type": "code",
      "source": [
        "import os\n",
        "import tensorflow as tf\n",
        "from tensorflow.keras.preprocessing.image import ImageDataGenerator\n",
        "from tensorflow.keras.layers import Conv2D, MaxPooling2D, Flatten, Dense, Dropout\n",
        "from tensorflow.keras.models import Sequential\n",
        "from tensorflow.keras.layers import GlobalAveragePooling2D, Dense, Dropout\n",
        "from tensorflow.keras.optimizers import Adam\n",
        "from tensorflow.keras.callbacks import EarlyStopping\n",
        "import matplotlib.pyplot as plt\n",
        "from tensorflow.keras.preprocessing.image import load_img, img_to_array\n",
        "import pandas as pd\n",
        "import numpy as np\n",
        "import warnings\n",
        "warnings.filterwarnings(\"ignore\")\n",
        "# Disable XLA\n",
        "os.environ['TF_XLA_FLAGS'] = '--tf_xla_enable_xla_devices=false'\n",
        "\n",
        "# Set logging level to avoid unnecessary warnings\n",
        "os.environ['TF_CPP_MIN_LOG_LEVEL'] = '3'\n",
        "tf.get_logger().setLevel('ERROR')\n",
        "\n",
        "# Clear TensorFlow session\n",
        "from tensorflow.keras import backend as K\n",
        "K.clear_session()"
      ],
      "metadata": {
        "id": "L0nVw6BguORP",
        "execution": {
          "iopub.status.busy": "2024-07-26T16:17:18.254631Z",
          "iopub.execute_input": "2024-07-26T16:17:18.255266Z",
          "iopub.status.idle": "2024-07-26T16:17:22.08527Z",
          "shell.execute_reply.started": "2024-07-26T16:17:18.255233Z",
          "shell.execute_reply": "2024-07-26T16:17:22.084466Z"
        },
        "trusted": true
      },
      "execution_count": null,
      "outputs": []
    },
    {
      "cell_type": "markdown",
      "source": [
        "# Load DataSet"
      ],
      "metadata": {
        "id": "pDapEt8nxmKE"
      }
    },
    {
      "cell_type": "code",
      "source": [
        "dataset_path = \"/kaggle/input/leapgestrecog/leapGestRecog\""
      ],
      "metadata": {
        "id": "BWB_-KKKuQiG",
        "execution": {
          "iopub.status.busy": "2024-07-26T16:17:22.087062Z",
          "iopub.execute_input": "2024-07-26T16:17:22.087826Z",
          "iopub.status.idle": "2024-07-26T16:17:22.09237Z",
          "shell.execute_reply.started": "2024-07-26T16:17:22.08779Z",
          "shell.execute_reply": "2024-07-26T16:17:22.091487Z"
        },
        "trusted": true
      },
      "execution_count": null,
      "outputs": []
    },
    {
      "cell_type": "markdown",
      "source": [
        "# Data preprocessing\n",
        "****"
      ],
      "metadata": {
        "id": "cnQzducxxmKG"
      }
    },
    {
      "cell_type": "code",
      "source": [
        "os.listdir('/kaggle/input/leapgestrecog/leapGestRecog')"
      ],
      "metadata": {
        "id": "dSjl9RwUuQas",
        "execution": {
          "iopub.status.busy": "2024-07-26T16:17:24.173206Z",
          "iopub.execute_input": "2024-07-26T16:17:24.173628Z",
          "iopub.status.idle": "2024-07-26T16:17:24.183527Z",
          "shell.execute_reply.started": "2024-07-26T16:17:24.173597Z",
          "shell.execute_reply": "2024-07-26T16:17:24.182558Z"
        },
        "trusted": true
      },
      "execution_count": null,
      "outputs": []
    },
    {
      "cell_type": "markdown",
      "source": [
        "# Parameters"
      ],
      "metadata": {
        "id": "FSh5kvl7xmKI"
      }
    },
    {
      "cell_type": "code",
      "source": [
        "batch_size = 32\n",
        "img_size = 224\n",
        "num_classes = 10"
      ],
      "metadata": {
        "execution": {
          "iopub.status.busy": "2024-07-26T16:17:37.156578Z",
          "iopub.execute_input": "2024-07-26T16:17:37.15754Z",
          "iopub.status.idle": "2024-07-26T16:17:37.162259Z",
          "shell.execute_reply.started": "2024-07-26T16:17:37.157498Z",
          "shell.execute_reply": "2024-07-26T16:17:37.161337Z"
        },
        "trusted": true,
        "id": "lkyN5R_PxmKJ"
      },
      "execution_count": null,
      "outputs": []
    },
    {
      "cell_type": "markdown",
      "source": [
        "# Create a function to get the file paths and labels"
      ],
      "metadata": {
        "id": "EBSXMeHuxmKJ"
      }
    },
    {
      "cell_type": "code",
      "source": [
        "def get_file_paths_and_labels(base_path):\n",
        "    file_paths = []\n",
        "    labels = []\n",
        "    gesture_folders = [\n",
        "        '01_palm', '02_l', '03_fist', '04_fist_moved', '05_thumb',\n",
        "        '06_index', '07_ok', '08_palm_moved', '09_c', '10_down'\n",
        "    ]\n",
        "    label_map = {gesture: idx for idx, gesture in enumerate(gesture_folders)}\n",
        "\n",
        "    for subject in os.listdir(base_path):\n",
        "        subject_path = os.path.join(base_path, subject)\n",
        "        if os.path.isdir(subject_path):\n",
        "            for gesture in gesture_folders:\n",
        "                gesture_path = os.path.join(subject_path, gesture)\n",
        "                if os.path.isdir(gesture_path):\n",
        "                    for img_file in os.listdir(gesture_path):\n",
        "                        img_path = os.path.join(gesture_path, img_file)\n",
        "                        file_paths.append(img_path)\n",
        "                        labels.append(label_map[gesture])\n",
        "    return file_paths, labels"
      ],
      "metadata": {
        "execution": {
          "iopub.status.busy": "2024-07-26T16:17:45.827988Z",
          "iopub.execute_input": "2024-07-26T16:17:45.82842Z",
          "iopub.status.idle": "2024-07-26T16:17:45.836593Z",
          "shell.execute_reply.started": "2024-07-26T16:17:45.828389Z",
          "shell.execute_reply": "2024-07-26T16:17:45.835573Z"
        },
        "trusted": true,
        "id": "Q3cniIS3xmKK"
      },
      "execution_count": null,
      "outputs": []
    },
    {
      "cell_type": "markdown",
      "source": [
        "# Function to display images"
      ],
      "metadata": {
        "id": "qakPV6KoxmKL"
      }
    },
    {
      "cell_type": "code",
      "source": [
        "def display_images(file_paths, labels, label_map):\n",
        "    unique_labels = list(label_map.values())\n",
        "    label_to_name = {v: k for k, v in label_map.items()}\n",
        "\n",
        "    plt.figure(figsize=(20, 20))\n",
        "    for idx, label in enumerate(unique_labels):\n",
        "        label_paths = [file_paths[i] for i in range(len(labels)) if labels[i] == label][:5]\n",
        "        for i, img_path in enumerate(label_paths):\n",
        "            img = load_img(img_path, color_mode='grayscale', target_size=(img_size, img_size))\n",
        "            img = img_to_array(img) / 255.0\n",
        "            plt.subplot(len(unique_labels), 5, idx * 5 + i + 1)\n",
        "            plt.imshow(img.squeeze(), cmap='gray')\n",
        "            plt.title(label_to_name[label])\n",
        "            plt.axis('off')\n",
        "    plt.show()"
      ],
      "metadata": {
        "execution": {
          "iopub.status.busy": "2024-07-26T16:17:49.575045Z",
          "iopub.execute_input": "2024-07-26T16:17:49.57576Z",
          "iopub.status.idle": "2024-07-26T16:17:49.583409Z",
          "shell.execute_reply.started": "2024-07-26T16:17:49.575727Z",
          "shell.execute_reply": "2024-07-26T16:17:49.58245Z"
        },
        "trusted": true,
        "id": "CKi582VYxmKL"
      },
      "execution_count": null,
      "outputs": []
    },
    {
      "cell_type": "markdown",
      "source": [
        "# Get the file paths and labels"
      ],
      "metadata": {
        "id": "K9W0X-y8xmKL"
      }
    },
    {
      "cell_type": "code",
      "source": [
        "file_paths, labels = get_file_paths_and_labels(dataset_path)"
      ],
      "metadata": {
        "execution": {
          "iopub.status.busy": "2024-07-26T16:17:50.077342Z",
          "iopub.execute_input": "2024-07-26T16:17:50.078021Z",
          "iopub.status.idle": "2024-07-26T16:17:50.25238Z",
          "shell.execute_reply.started": "2024-07-26T16:17:50.077993Z",
          "shell.execute_reply": "2024-07-26T16:17:50.251318Z"
        },
        "trusted": true,
        "id": "dXDIZ9y1xmKM"
      },
      "execution_count": null,
      "outputs": []
    },
    {
      "cell_type": "code",
      "source": [
        "print(f\"First 10 file paths: {file_paths[:10]}\")\n",
        "print(f\"First 10 labels: {labels[:10]}\")"
      ],
      "metadata": {
        "execution": {
          "iopub.status.busy": "2024-07-26T16:17:50.357584Z",
          "iopub.execute_input": "2024-07-26T16:17:50.358347Z",
          "iopub.status.idle": "2024-07-26T16:17:50.363669Z",
          "shell.execute_reply.started": "2024-07-26T16:17:50.358309Z",
          "shell.execute_reply": "2024-07-26T16:17:50.362642Z"
        },
        "trusted": true,
        "id": "IP49pXCqxmKM"
      },
      "execution_count": null,
      "outputs": []
    },
    {
      "cell_type": "markdown",
      "source": [
        "# Check if we got any file paths and labels"
      ],
      "metadata": {
        "id": "NbzrYHTcxmKM"
      }
    },
    {
      "cell_type": "code",
      "source": [
        "if not file_paths or not labels:\n",
        "    raise ValueError(\"No file paths or labels found. Please check the dataset path and structure.\")"
      ],
      "metadata": {
        "execution": {
          "iopub.status.busy": "2024-07-26T16:17:50.745709Z",
          "iopub.execute_input": "2024-07-26T16:17:50.746035Z",
          "iopub.status.idle": "2024-07-26T16:17:50.750308Z",
          "shell.execute_reply.started": "2024-07-26T16:17:50.746009Z",
          "shell.execute_reply": "2024-07-26T16:17:50.749452Z"
        },
        "trusted": true,
        "id": "H_c35MJCxmKN"
      },
      "execution_count": null,
      "outputs": []
    },
    {
      "cell_type": "markdown",
      "source": [
        "# Complete DataSet images Display"
      ],
      "metadata": {
        "id": "3zIaHsKjxmKN"
      }
    },
    {
      "cell_type": "code",
      "source": [
        "# Label map\n",
        "gesture_folders = [\n",
        "    '01_palm', '02_l', '03_fist', '04_fist_moved', '05_thumb',\n",
        "    '06_index', '07_ok', '08_palm_moved', '09_c', '10_down'\n",
        "]\n",
        "label_map = {gesture: idx for idx, gesture in enumerate(gesture_folders)}\n",
        "\n",
        "# Display the images\n",
        "display_images(file_paths, labels, label_map)"
      ],
      "metadata": {
        "execution": {
          "iopub.status.busy": "2024-07-26T16:17:51.180594Z",
          "iopub.execute_input": "2024-07-26T16:17:51.180907Z",
          "iopub.status.idle": "2024-07-26T16:17:54.510858Z",
          "shell.execute_reply.started": "2024-07-26T16:17:51.180881Z",
          "shell.execute_reply": "2024-07-26T16:17:54.509877Z"
        },
        "trusted": true,
        "id": "8B0gbxAvxmKN"
      },
      "execution_count": null,
      "outputs": []
    },
    {
      "cell_type": "markdown",
      "source": [
        "# Function to Print 10 Images from '01_palm'"
      ],
      "metadata": {
        "id": "xbaPCAQFxmKO"
      }
    },
    {
      "cell_type": "code",
      "source": [
        "def get_file_paths_01_palm(base_path):\n",
        "    file_paths = []\n",
        "    subject_folders = os.listdir(base_path)\n",
        "    for subject in subject_folders:\n",
        "        subject_path = os.path.join(base_path, subject, '01_palm')\n",
        "        if os.path.isdir(subject_path):\n",
        "            count = 0\n",
        "            for img_file in os.listdir(subject_path):\n",
        "                if count >= 10:\n",
        "                    break\n",
        "                img_path = os.path.join(subject_path, img_file)\n",
        "                file_paths.append(img_path)\n",
        "                count += 1\n",
        "    return file_paths"
      ],
      "metadata": {
        "execution": {
          "iopub.status.busy": "2024-07-26T16:17:54.512768Z",
          "iopub.execute_input": "2024-07-26T16:17:54.513224Z",
          "iopub.status.idle": "2024-07-26T16:17:54.520452Z",
          "shell.execute_reply.started": "2024-07-26T16:17:54.513183Z",
          "shell.execute_reply": "2024-07-26T16:17:54.519487Z"
        },
        "trusted": true,
        "id": "MfOvUrHMxmKO"
      },
      "execution_count": null,
      "outputs": []
    },
    {
      "cell_type": "markdown",
      "source": [
        "# Function to display images from '01_palm"
      ],
      "metadata": {
        "id": "KfcIdFn1xmKO"
      }
    },
    {
      "cell_type": "code",
      "source": [
        "# Function to display images in two rows\n",
        "def display_images(file_paths):\n",
        "    plt.figure(figsize=(20, 8))\n",
        "    for i, img_path in enumerate(file_paths[:10]):  # Ensure only 10 images are displayed\n",
        "        img = load_img(img_path, color_mode='grayscale', target_size=(img_size, img_size))\n",
        "        img = img_to_array(img) / 255.0\n",
        "        plt.subplot(2, 5, i + 1)\n",
        "        plt.imshow(img.squeeze(), cmap='gray')\n",
        "        plt.title(os.path.basename(img_path))\n",
        "        plt.axis('off')\n",
        "    plt.show()\n",
        "\n",
        "# Get the file paths\n",
        "file_paths_01_palm = get_file_paths_01_palm(dataset_path)\n",
        "\n",
        "# Display the images\n",
        "display_images(file_paths_01_palm)"
      ],
      "metadata": {
        "execution": {
          "iopub.status.busy": "2024-07-26T16:17:54.521676Z",
          "iopub.execute_input": "2024-07-26T16:17:54.521954Z",
          "iopub.status.idle": "2024-07-26T16:17:55.910783Z",
          "shell.execute_reply.started": "2024-07-26T16:17:54.521931Z",
          "shell.execute_reply": "2024-07-26T16:17:55.909844Z"
        },
        "trusted": true,
        "id": "OAro5tFfxmKO"
      },
      "execution_count": null,
      "outputs": []
    },
    {
      "cell_type": "markdown",
      "source": [
        "# Function to Print 10 Images from '02_l'"
      ],
      "metadata": {
        "id": "mWffDVzbxmKP"
      }
    },
    {
      "cell_type": "code",
      "source": [
        "def get_file_paths_02_l(base_path):\n",
        "    file_paths = []\n",
        "    subject_folders = os.listdir(base_path)\n",
        "    for subject in subject_folders:\n",
        "        subject_path = os.path.join(base_path, subject, '02_l')\n",
        "        if os.path.isdir(subject_path):\n",
        "            count = 0\n",
        "            for img_file in os.listdir(subject_path):\n",
        "                if count >= 10:\n",
        "                    break\n",
        "                img_path = os.path.join(subject_path, img_file)\n",
        "                file_paths.append(img_path)\n",
        "                count += 1\n",
        "    return file_paths\n"
      ],
      "metadata": {
        "execution": {
          "iopub.status.busy": "2024-07-26T16:17:55.913302Z",
          "iopub.execute_input": "2024-07-26T16:17:55.91371Z",
          "iopub.status.idle": "2024-07-26T16:17:55.920905Z",
          "shell.execute_reply.started": "2024-07-26T16:17:55.91368Z",
          "shell.execute_reply": "2024-07-26T16:17:55.920081Z"
        },
        "trusted": true,
        "id": "L_4H_u_TxmKP"
      },
      "execution_count": null,
      "outputs": []
    },
    {
      "cell_type": "markdown",
      "source": [
        " # Display images from '02_l'"
      ],
      "metadata": {
        "id": "xSS10ztYxmKP"
      }
    },
    {
      "cell_type": "code",
      "source": [
        "# Get the file paths\n",
        "file_paths_02_l = get_file_paths_02_l(dataset_path)\n",
        "\n",
        "# Display the images\n",
        "display_images(file_paths_02_l)"
      ],
      "metadata": {
        "execution": {
          "iopub.status.busy": "2024-07-26T16:17:55.922022Z",
          "iopub.execute_input": "2024-07-26T16:17:55.92245Z",
          "iopub.status.idle": "2024-07-26T16:17:57.070679Z",
          "shell.execute_reply.started": "2024-07-26T16:17:55.92242Z",
          "shell.execute_reply": "2024-07-26T16:17:57.069784Z"
        },
        "trusted": true,
        "id": "TeaNmWhXxmKQ"
      },
      "execution_count": null,
      "outputs": []
    },
    {
      "cell_type": "markdown",
      "source": [
        "# Function to Print 10 Images from '03_fist'"
      ],
      "metadata": {
        "id": "DAfnUWZ5xmKR"
      }
    },
    {
      "cell_type": "code",
      "source": [
        "def get_file_paths_03_fist(base_path):\n",
        "    file_paths = []\n",
        "    subject_folders = os.listdir(base_path)\n",
        "    for subject in subject_folders:\n",
        "        subject_path = os.path.join(base_path, subject, '03_fist')\n",
        "        if os.path.isdir(subject_path):\n",
        "            count = 0\n",
        "            for img_file in os.listdir(subject_path):\n",
        "                if count >= 10:\n",
        "                    break\n",
        "                img_path = os.path.join(subject_path, img_file)\n",
        "                file_paths.append(img_path)\n",
        "                count += 1\n",
        "    return file_paths\n"
      ],
      "metadata": {
        "execution": {
          "iopub.status.busy": "2024-07-26T16:17:57.072084Z",
          "iopub.execute_input": "2024-07-26T16:17:57.072535Z",
          "iopub.status.idle": "2024-07-26T16:17:57.080253Z",
          "shell.execute_reply.started": "2024-07-26T16:17:57.072503Z",
          "shell.execute_reply": "2024-07-26T16:17:57.079272Z"
        },
        "trusted": true,
        "id": "MfCJsMuKxmKR"
      },
      "execution_count": null,
      "outputs": []
    },
    {
      "cell_type": "markdown",
      "source": [
        "# Display Images From '03_fist'"
      ],
      "metadata": {
        "id": "8sK8hQkxxmKS"
      }
    },
    {
      "cell_type": "code",
      "source": [
        "# Get the file paths\n",
        "file_paths_03_fist = get_file_paths_03_fist(dataset_path)\n",
        "\n",
        "# Display the images\n",
        "display_images(file_paths_03_fist)"
      ],
      "metadata": {
        "execution": {
          "iopub.status.busy": "2024-07-26T16:17:57.081744Z",
          "iopub.execute_input": "2024-07-26T16:17:57.082128Z",
          "iopub.status.idle": "2024-07-26T16:17:58.238211Z",
          "shell.execute_reply.started": "2024-07-26T16:17:57.082098Z",
          "shell.execute_reply": "2024-07-26T16:17:58.237305Z"
        },
        "trusted": true,
        "id": "Eu0puAEpxmKT"
      },
      "execution_count": null,
      "outputs": []
    },
    {
      "cell_type": "markdown",
      "source": [
        "# Function to Print 10 Images from '04_fist_moved'"
      ],
      "metadata": {
        "id": "UBCAaIxGxmKT"
      }
    },
    {
      "cell_type": "code",
      "source": [
        "def get_file_paths_04_fist_moved(base_path):\n",
        "    file_paths = []\n",
        "    subject_folders = os.listdir(base_path)\n",
        "    for subject in subject_folders:\n",
        "        subject_path = os.path.join(base_path, subject, '04_fist_moved')\n",
        "        if os.path.isdir(subject_path):\n",
        "            count = 0\n",
        "            for img_file in os.listdir(subject_path):\n",
        "                if count >= 10:\n",
        "                    break\n",
        "                img_path = os.path.join(subject_path, img_file)\n",
        "                file_paths.append(img_path)\n",
        "                count += 1\n",
        "    return file_paths\n",
        "\n",
        "file_paths_04_fist_moved = get_file_paths_04_fist_moved(dataset_path)\n",
        "display_images(file_paths_04_fist_moved)"
      ],
      "metadata": {
        "execution": {
          "iopub.status.busy": "2024-07-26T16:17:58.23945Z",
          "iopub.execute_input": "2024-07-26T16:17:58.239806Z",
          "iopub.status.idle": "2024-07-26T16:17:59.492565Z",
          "shell.execute_reply.started": "2024-07-26T16:17:58.239763Z",
          "shell.execute_reply": "2024-07-26T16:17:59.491597Z"
        },
        "trusted": true,
        "id": "qWagYTnnxmKU"
      },
      "execution_count": null,
      "outputs": []
    },
    {
      "cell_type": "markdown",
      "source": [
        "# Function to Print 10 Images from '05_thumb'"
      ],
      "metadata": {
        "id": "YPoDV4AjxmKU"
      }
    },
    {
      "cell_type": "code",
      "source": [
        "def get_file_paths_05_thumb(base_path):\n",
        "    file_paths = []\n",
        "    subject_folders = os.listdir(base_path)\n",
        "    for subject in subject_folders:\n",
        "        subject_path = os.path.join(base_path, subject, '05_thumb')\n",
        "        if os.path.isdir(subject_path):\n",
        "            count = 0\n",
        "            for img_file in os.listdir(subject_path):\n",
        "                if count >= 10:\n",
        "                    break\n",
        "                img_path = os.path.join(subject_path, img_file)\n",
        "                file_paths.append(img_path)\n",
        "                count += 1\n",
        "    return file_paths\n",
        "\n",
        "file_paths_05_thumb = get_file_paths_05_thumb(dataset_path)\n",
        "display_images(file_paths_05_thumb)"
      ],
      "metadata": {
        "execution": {
          "iopub.status.busy": "2024-07-26T16:17:59.493937Z",
          "iopub.execute_input": "2024-07-26T16:17:59.494371Z",
          "iopub.status.idle": "2024-07-26T16:18:00.879983Z",
          "shell.execute_reply.started": "2024-07-26T16:17:59.49434Z",
          "shell.execute_reply": "2024-07-26T16:18:00.879099Z"
        },
        "trusted": true,
        "id": "_nkF4WqoxmKU"
      },
      "execution_count": null,
      "outputs": []
    },
    {
      "cell_type": "markdown",
      "source": [
        "# Function to Print 10 Images from '06_index'"
      ],
      "metadata": {
        "id": "ulbS_q9NxmKV"
      }
    },
    {
      "cell_type": "code",
      "source": [
        "def get_file_paths_06_index(base_path):\n",
        "    file_paths = []\n",
        "    subject_folders = os.listdir(base_path)\n",
        "    for subject in subject_folders:\n",
        "        subject_path = os.path.join(base_path, subject, '06_index')\n",
        "        if os.path.isdir(subject_path):\n",
        "            count = 0\n",
        "            for img_file in os.listdir(subject_path):\n",
        "                if count >= 10:\n",
        "                    break\n",
        "                img_path = os.path.join(subject_path, img_file)\n",
        "                file_paths.append(img_path)\n",
        "                count += 1\n",
        "    return file_paths\n",
        "\n",
        "file_paths_06_index = get_file_paths_06_index(dataset_path)\n",
        "display_images(file_paths_06_index)"
      ],
      "metadata": {
        "execution": {
          "iopub.status.busy": "2024-07-26T16:18:00.883251Z",
          "iopub.execute_input": "2024-07-26T16:18:00.883751Z",
          "iopub.status.idle": "2024-07-26T16:18:01.987104Z",
          "shell.execute_reply.started": "2024-07-26T16:18:00.883721Z",
          "shell.execute_reply": "2024-07-26T16:18:01.986239Z"
        },
        "trusted": true,
        "id": "Y__X8CwpxmKV"
      },
      "execution_count": null,
      "outputs": []
    },
    {
      "cell_type": "markdown",
      "source": [
        "# Function to Print 10 Images from '07_ok'"
      ],
      "metadata": {
        "id": "EyaMlGZ5xmKV"
      }
    },
    {
      "cell_type": "code",
      "source": [
        "def get_file_paths_07_ok(base_path):\n",
        "    file_paths = []\n",
        "    subject_folders = os.listdir(base_path)\n",
        "    for subject in subject_folders:\n",
        "        subject_path = os.path.join(base_path, subject, '07_ok')\n",
        "        if os.path.isdir(subject_path):\n",
        "            count = 0\n",
        "            for img_file in os.listdir(subject_path):\n",
        "                if count >= 10:\n",
        "                    break\n",
        "                img_path = os.path.join(subject_path, img_file)\n",
        "                file_paths.append(img_path)\n",
        "                count += 1\n",
        "    return file_paths\n",
        "\n",
        "file_paths_07_ok = get_file_paths_07_ok(dataset_path)\n",
        "display_images(file_paths_07_ok)"
      ],
      "metadata": {
        "execution": {
          "iopub.status.busy": "2024-07-26T16:18:01.988601Z",
          "iopub.execute_input": "2024-07-26T16:18:01.988969Z",
          "iopub.status.idle": "2024-07-26T16:18:03.138638Z",
          "shell.execute_reply.started": "2024-07-26T16:18:01.98894Z",
          "shell.execute_reply": "2024-07-26T16:18:03.137734Z"
        },
        "trusted": true,
        "id": "4ORPb9hlxmKf"
      },
      "execution_count": null,
      "outputs": []
    },
    {
      "cell_type": "markdown",
      "source": [
        "# Function to Print 10 Images from '08_palm_moved'"
      ],
      "metadata": {
        "id": "dujAjEtVxmKf"
      }
    },
    {
      "cell_type": "code",
      "source": [
        "def get_file_paths_08_palm_moved(base_path):\n",
        "    file_paths = []\n",
        "    subject_folders = os.listdir(base_path)\n",
        "    for subject in subject_folders:\n",
        "        subject_path = os.path.join(base_path, subject, '08_palm_moved')\n",
        "        if os.path.isdir(subject_path):\n",
        "            count = 0\n",
        "            for img_file in os.listdir(subject_path):\n",
        "                if count >= 10:\n",
        "                    break\n",
        "                img_path = os.path.join(subject_path, img_file)\n",
        "                file_paths.append(img_path)\n",
        "                count += 1\n",
        "    return file_paths\n",
        "\n",
        "file_paths_08_palm_moved = get_file_paths_08_palm_moved(dataset_path)\n",
        "display_images(file_paths_08_palm_moved)"
      ],
      "metadata": {
        "execution": {
          "iopub.status.busy": "2024-07-26T16:18:03.139893Z",
          "iopub.execute_input": "2024-07-26T16:18:03.140256Z",
          "iopub.status.idle": "2024-07-26T16:18:04.281886Z",
          "shell.execute_reply.started": "2024-07-26T16:18:03.140224Z",
          "shell.execute_reply": "2024-07-26T16:18:04.28087Z"
        },
        "trusted": true,
        "id": "KWjGS6zuxmKg"
      },
      "execution_count": null,
      "outputs": []
    },
    {
      "cell_type": "markdown",
      "source": [
        "# Function to Print 10 Images from '09_c'"
      ],
      "metadata": {
        "id": "bWI-93kvxmKg"
      }
    },
    {
      "cell_type": "code",
      "source": [
        "def get_file_paths_09_c(base_path):\n",
        "    file_paths = []\n",
        "    subject_folders = os.listdir(base_path)\n",
        "    for subject in subject_folders:\n",
        "        subject_path = os.path.join(base_path, subject, '09_c')\n",
        "        if os.path.isdir(subject_path):\n",
        "            count = 0\n",
        "            for img_file in os.listdir(subject_path):\n",
        "                if count >= 10:\n",
        "                    break\n",
        "                img_path = os.path.join(subject_path, img_file)\n",
        "                file_paths.append(img_path)\n",
        "                count += 1\n",
        "    return file_paths\n",
        "\n",
        "file_paths_09_c = get_file_paths_09_c(dataset_path)\n",
        "display_images(file_paths_09_c)"
      ],
      "metadata": {
        "execution": {
          "iopub.status.busy": "2024-07-26T16:18:04.283086Z",
          "iopub.execute_input": "2024-07-26T16:18:04.283401Z",
          "iopub.status.idle": "2024-07-26T16:18:05.671542Z",
          "shell.execute_reply.started": "2024-07-26T16:18:04.283375Z",
          "shell.execute_reply": "2024-07-26T16:18:05.670629Z"
        },
        "trusted": true,
        "id": "wuz92xWqxmKh"
      },
      "execution_count": null,
      "outputs": []
    },
    {
      "cell_type": "markdown",
      "source": [
        "# Function to Print 10 Images from '10_down'"
      ],
      "metadata": {
        "id": "-wc445YqxmKh"
      }
    },
    {
      "cell_type": "code",
      "source": [
        "def get_file_paths_10_down(base_path):\n",
        "    file_paths = []\n",
        "    subject_folders = os.listdir(base_path)\n",
        "    for subject in subject_folders:\n",
        "        subject_path = os.path.join(base_path, subject, '10_down')\n",
        "        if os.path.isdir(subject_path):\n",
        "            count = 0\n",
        "            for img_file in os.listdir(subject_path):\n",
        "                if count >= 10:\n",
        "                    break\n",
        "                img_path = os.path.join(subject_path, img_file)\n",
        "                file_paths.append(img_path)\n",
        "                count += 1\n",
        "    return file_paths\n",
        "\n",
        "file_paths_10_down = get_file_paths_10_down(dataset_path)\n",
        "display_images(file_paths_10_down)"
      ],
      "metadata": {
        "execution": {
          "iopub.status.busy": "2024-07-26T16:18:05.672918Z",
          "iopub.execute_input": "2024-07-26T16:18:05.673357Z",
          "iopub.status.idle": "2024-07-26T16:18:06.77559Z",
          "shell.execute_reply.started": "2024-07-26T16:18:05.673325Z",
          "shell.execute_reply": "2024-07-26T16:18:06.774719Z"
        },
        "trusted": true,
        "id": "JbGcjabcxmKi"
      },
      "execution_count": null,
      "outputs": []
    },
    {
      "cell_type": "markdown",
      "source": [
        "# Shuffle the data"
      ],
      "metadata": {
        "id": "mE_coO9YxmKi"
      }
    },
    {
      "cell_type": "code",
      "source": [
        "data = list(zip(file_paths, labels))\n",
        "np.random.shuffle(data)\n",
        "file_paths, labels = zip(*data)"
      ],
      "metadata": {
        "execution": {
          "iopub.status.busy": "2024-07-26T16:18:22.522947Z",
          "iopub.execute_input": "2024-07-26T16:18:22.523449Z",
          "iopub.status.idle": "2024-07-26T16:18:22.537677Z",
          "shell.execute_reply.started": "2024-07-26T16:18:22.523419Z",
          "shell.execute_reply": "2024-07-26T16:18:22.536565Z"
        },
        "trusted": true,
        "id": "Gej5Wa3CxmKj"
      },
      "execution_count": null,
      "outputs": []
    },
    {
      "cell_type": "markdown",
      "source": [
        "# Convert labels to strings"
      ],
      "metadata": {
        "id": "y73PTBEQxmKk"
      }
    },
    {
      "cell_type": "code",
      "source": [
        "labels_str = [str(label) for label in labels]"
      ],
      "metadata": {
        "execution": {
          "iopub.status.busy": "2024-07-26T16:18:29.59595Z",
          "iopub.execute_input": "2024-07-26T16:18:29.59635Z",
          "iopub.status.idle": "2024-07-26T16:18:29.604873Z",
          "shell.execute_reply.started": "2024-07-26T16:18:29.596319Z",
          "shell.execute_reply": "2024-07-26T16:18:29.603839Z"
        },
        "trusted": true,
        "id": "XP7IV1IlxmKk"
      },
      "execution_count": null,
      "outputs": []
    },
    {
      "cell_type": "markdown",
      "source": [
        "# Create a dataframe with file paths and label"
      ],
      "metadata": {
        "id": "HpH_2a8lxmKk"
      }
    },
    {
      "cell_type": "code",
      "source": [
        "dataframe = pd.DataFrame({'filename': file_paths, 'class': labels_str})"
      ],
      "metadata": {
        "execution": {
          "iopub.status.busy": "2024-07-26T16:18:30.713498Z",
          "iopub.execute_input": "2024-07-26T16:18:30.713867Z",
          "iopub.status.idle": "2024-07-26T16:18:30.72302Z",
          "shell.execute_reply.started": "2024-07-26T16:18:30.713838Z",
          "shell.execute_reply": "2024-07-26T16:18:30.722056Z"
        },
        "trusted": true,
        "id": "2fkXOJ4BxmKl"
      },
      "execution_count": null,
      "outputs": []
    },
    {
      "cell_type": "markdown",
      "source": [
        "# Create ImageDataGenerator for training and validation"
      ],
      "metadata": {
        "id": "Rb12lcHpxmKl"
      }
    },
    {
      "cell_type": "code",
      "source": [
        "datagen = ImageDataGenerator(\n",
        "    rescale=1/255.0,\n",
        "    zoom_range=0.2,\n",
        "    width_shift_range=0.2,\n",
        "    height_shift_range=0.2,\n",
        "    validation_split=0.2  # Reserve 20% of the data for validation\n",
        ")\n",
        "\n",
        "train_generator = datagen.flow_from_dataframe(\n",
        "    dataframe=dataframe,\n",
        "    x_col='filename',\n",
        "    y_col='class',\n",
        "    target_size=(img_size, img_size),\n",
        "    batch_size=batch_size,\n",
        "    class_mode='categorical',\n",
        "    subset='training'\n",
        ")\n",
        "\n",
        "validation_generator = datagen.flow_from_dataframe(\n",
        "    dataframe=dataframe,\n",
        "    x_col='filename',\n",
        "    y_col='class',\n",
        "    target_size=(img_size, img_size),\n",
        "    batch_size=batch_size,\n",
        "    class_mode='categorical',\n",
        "    subset='validation'\n",
        ")"
      ],
      "metadata": {
        "execution": {
          "iopub.status.busy": "2024-07-26T16:18:49.606604Z",
          "iopub.execute_input": "2024-07-26T16:18:49.606986Z",
          "iopub.status.idle": "2024-07-26T16:18:58.427135Z",
          "shell.execute_reply.started": "2024-07-26T16:18:49.606957Z",
          "shell.execute_reply": "2024-07-26T16:18:58.42639Z"
        },
        "trusted": true,
        "id": "NkeimyYXxmKl"
      },
      "execution_count": null,
      "outputs": []
    },
    {
      "cell_type": "markdown",
      "source": [
        "# Define a simple CNN model"
      ],
      "metadata": {
        "id": "dZvfBEiExmKm"
      }
    },
    {
      "cell_type": "code",
      "source": [
        "model = Sequential([\n",
        "    Conv2D(32, (3, 3), activation='relu', input_shape=(img_size, img_size, 3)),\n",
        "    MaxPooling2D((2, 2)),\n",
        "    Conv2D(64, (3, 3), activation='relu'),\n",
        "    MaxPooling2D((2, 2)),\n",
        "    Conv2D(128, (3, 3), activation='relu'),\n",
        "    MaxPooling2D((2, 2)),\n",
        "    Flatten(),\n",
        "    Dense(512, activation='relu'),\n",
        "    Dropout(0.5),\n",
        "    Dense(num_classes, activation='softmax')\n",
        "])"
      ],
      "metadata": {
        "execution": {
          "iopub.status.busy": "2024-07-26T16:19:16.67467Z",
          "iopub.execute_input": "2024-07-26T16:19:16.675539Z",
          "iopub.status.idle": "2024-07-26T16:19:17.188425Z",
          "shell.execute_reply.started": "2024-07-26T16:19:16.675505Z",
          "shell.execute_reply": "2024-07-26T16:19:17.186966Z"
        },
        "trusted": true,
        "id": "gG9TWSlUxmKm"
      },
      "execution_count": null,
      "outputs": []
    },
    {
      "cell_type": "markdown",
      "source": [
        "# Model Summary"
      ],
      "metadata": {
        "id": "tuorSXV-xmKn"
      }
    },
    {
      "cell_type": "code",
      "source": [
        "model.summary()"
      ],
      "metadata": {
        "execution": {
          "iopub.status.busy": "2024-07-26T16:19:20.125217Z",
          "iopub.execute_input": "2024-07-26T16:19:20.12611Z",
          "iopub.status.idle": "2024-07-26T16:19:20.151163Z",
          "shell.execute_reply.started": "2024-07-26T16:19:20.126073Z",
          "shell.execute_reply": "2024-07-26T16:19:20.15032Z"
        },
        "trusted": true,
        "id": "_dwT15qYxmKn"
      },
      "execution_count": null,
      "outputs": []
    },
    {
      "cell_type": "markdown",
      "source": [
        "# Compile the model"
      ],
      "metadata": {
        "id": "DKhUTVnnxmKn"
      }
    },
    {
      "cell_type": "code",
      "source": [
        "model.compile(\n",
        "    optimizer=Adam(learning_rate=0.0001),\n",
        "    loss='categorical_crossentropy',\n",
        "    metrics=['accuracy']\n",
        ")"
      ],
      "metadata": {
        "execution": {
          "iopub.status.busy": "2024-07-26T16:19:22.089626Z",
          "iopub.execute_input": "2024-07-26T16:19:22.089998Z",
          "iopub.status.idle": "2024-07-26T16:19:22.104062Z",
          "shell.execute_reply.started": "2024-07-26T16:19:22.089968Z",
          "shell.execute_reply": "2024-07-26T16:19:22.103199Z"
        },
        "trusted": true,
        "id": "k-hwB_WmxmKo"
      },
      "execution_count": null,
      "outputs": []
    },
    {
      "cell_type": "markdown",
      "source": [
        "# EarlyStopping"
      ],
      "metadata": {
        "id": "FdTbgYx8xmKo"
      }
    },
    {
      "cell_type": "code",
      "source": [
        "early_stopping = EarlyStopping(\n",
        "    monitor='val_loss',\n",
        "    patience=3,\n",
        "    restore_best_weights=True\n",
        ")"
      ],
      "metadata": {
        "execution": {
          "iopub.status.busy": "2024-07-26T16:19:27.637791Z",
          "iopub.execute_input": "2024-07-26T16:19:27.638459Z",
          "iopub.status.idle": "2024-07-26T16:19:27.642874Z",
          "shell.execute_reply.started": "2024-07-26T16:19:27.63842Z",
          "shell.execute_reply": "2024-07-26T16:19:27.641804Z"
        },
        "trusted": true,
        "id": "XGUTXi52xmKo"
      },
      "execution_count": null,
      "outputs": []
    },
    {
      "cell_type": "markdown",
      "source": [
        "# Train the model with early stopping"
      ],
      "metadata": {
        "id": "kzb8l9YqxmKp"
      }
    },
    {
      "cell_type": "code",
      "source": [
        "history = model.fit(\n",
        "    train_generator,\n",
        "    epochs=20,\n",
        "    validation_data=validation_generator,\n",
        "    callbacks=[early_stopping]\n",
        ")"
      ],
      "metadata": {
        "id": "LFSppBN8u5M5",
        "execution": {
          "iopub.status.busy": "2024-07-26T16:27:36.142319Z",
          "iopub.execute_input": "2024-07-26T16:27:36.143175Z",
          "iopub.status.idle": "2024-07-26T17:50:43.478304Z",
          "shell.execute_reply.started": "2024-07-26T16:27:36.143139Z",
          "shell.execute_reply": "2024-07-26T17:50:43.477449Z"
        },
        "trusted": true
      },
      "execution_count": null,
      "outputs": []
    },
    {
      "cell_type": "markdown",
      "source": [
        "# Plot the training history"
      ],
      "metadata": {
        "id": "RgQrjlgdxmKp"
      }
    },
    {
      "cell_type": "code",
      "source": [
        "def plot_training_history(history):\n",
        "    acc = history.history['accuracy']\n",
        "    val_acc = history.history['val_accuracy']\n",
        "    loss = history.history['loss']\n",
        "    val_loss = history.history['val_loss']\n",
        "\n",
        "    epochs_range = range(len(acc))\n",
        "\n",
        "    plt.figure(figsize=(20, 5))\n",
        "    plt.subplot(1, 2, 1)\n",
        "    plt.plot(epochs_range, acc, label='Training Accuracy')\n",
        "    plt.plot(epochs_range, val_acc, label='Validation Accuracy')\n",
        "    plt.legend(loc='lower right')\n",
        "    plt.title('Training and Validation Accuracy')\n",
        "\n",
        "    plt.subplot(1, 2, 2)\n",
        "    plt.plot(epochs_range, loss, label='Training Loss')\n",
        "    plt.plot(epochs_range, val_loss, label='Validation Loss')\n",
        "    plt.legend(loc='upper right')\n",
        "    plt.title('Training and Validation Loss')\n",
        "    plt.show()\n",
        "\n",
        "plot_training_history(history)\n"
      ],
      "metadata": {
        "execution": {
          "iopub.status.busy": "2024-07-26T17:55:23.474236Z",
          "iopub.execute_input": "2024-07-26T17:55:23.474925Z",
          "iopub.status.idle": "2024-07-26T17:55:23.980816Z",
          "shell.execute_reply.started": "2024-07-26T17:55:23.474892Z",
          "shell.execute_reply": "2024-07-26T17:55:23.97985Z"
        },
        "trusted": true,
        "id": "i8z-nB_yxmKq"
      },
      "execution_count": null,
      "outputs": []
    },
    {
      "cell_type": "markdown",
      "source": [
        "# Evaluate the model"
      ],
      "metadata": {
        "id": "oAtW6_K1xmKq"
      }
    },
    {
      "cell_type": "code",
      "source": [
        "loss, accuracy = model.evaluate(validation_generator)\n",
        "print(f'Validation Loss: {loss}')\n",
        "print(f'Validation Accuracy: {accuracy}')"
      ],
      "metadata": {
        "execution": {
          "iopub.status.busy": "2024-07-26T17:55:32.387182Z",
          "iopub.execute_input": "2024-07-26T17:55:32.388089Z",
          "iopub.status.idle": "2024-07-26T17:56:32.332954Z",
          "shell.execute_reply.started": "2024-07-26T17:55:32.388045Z",
          "shell.execute_reply": "2024-07-26T17:56:32.331994Z"
        },
        "trusted": true,
        "id": "WC1GxEZXxmKq"
      },
      "execution_count": null,
      "outputs": []
    },
    {
      "cell_type": "markdown",
      "source": [
        "# Save the model"
      ],
      "metadata": {
        "id": "hoyGc6u2xmKr"
      }
    },
    {
      "cell_type": "code",
      "source": [
        "model.save('hand_gesture_recognition_model.h5')"
      ],
      "metadata": {
        "execution": {
          "iopub.status.busy": "2024-07-26T17:57:12.873538Z",
          "iopub.execute_input": "2024-07-26T17:57:12.873917Z",
          "iopub.status.idle": "2024-07-26T17:57:14.13601Z",
          "shell.execute_reply.started": "2024-07-26T17:57:12.873888Z",
          "shell.execute_reply": "2024-07-26T17:57:14.135201Z"
        },
        "trusted": true,
        "id": "680MTm4lxmKr"
      },
      "execution_count": null,
      "outputs": []
    },
    {
      "cell_type": "markdown",
      "source": [
        "# Define the image size and gesture names"
      ],
      "metadata": {
        "id": "tvjMsc1yxmKs"
      }
    },
    {
      "cell_type": "code",
      "source": [
        "from tensorflow.keras.models import load_model\n",
        "from tensorflow.keras.preprocessing.image import load_img, img_to_array\n"
      ],
      "metadata": {
        "execution": {
          "iopub.status.busy": "2024-07-26T18:07:05.397444Z",
          "iopub.execute_input": "2024-07-26T18:07:05.397814Z",
          "iopub.status.idle": "2024-07-26T18:07:05.402468Z",
          "shell.execute_reply.started": "2024-07-26T18:07:05.397788Z",
          "shell.execute_reply": "2024-07-26T18:07:05.401486Z"
        },
        "trusted": true,
        "id": "At1KNtSexmKs"
      },
      "execution_count": null,
      "outputs": []
    },
    {
      "cell_type": "code",
      "source": [
        "img_size = 224\n",
        "gesture_classes = [\n",
        "    '01_palm', '02_l', '03_fist', '04_fist_moved',\n",
        "    '05_thumb', '06_index', '07_ok', '08_palm_moved',\n",
        "    '09_c', '10_down'\n",
        "]"
      ],
      "metadata": {
        "execution": {
          "iopub.status.busy": "2024-07-26T18:07:06.401827Z",
          "iopub.execute_input": "2024-07-26T18:07:06.402182Z",
          "iopub.status.idle": "2024-07-26T18:07:06.407312Z",
          "shell.execute_reply.started": "2024-07-26T18:07:06.402152Z",
          "shell.execute_reply": "2024-07-26T18:07:06.406342Z"
        },
        "trusted": true,
        "id": "v6oNwcPIxmKs"
      },
      "execution_count": null,
      "outputs": []
    },
    {
      "cell_type": "markdown",
      "source": [
        "# Function to load an image, predict the gesture, and display the result"
      ],
      "metadata": {
        "id": "W2RHIzV-xmKt"
      }
    },
    {
      "cell_type": "code",
      "source": [
        "def load_predict_and_display(img_path, model, img_size):\n",
        "    # Load and preprocess the image (RGB)\n",
        "    img = load_img(img_path, color_mode='rgb', target_size=(img_size, img_size))\n",
        "    img_array = img_to_array(img) / 255.0\n",
        "    img_array = np.expand_dims(img_array, axis=0)\n",
        "\n",
        "    # Predict the gesture\n",
        "    prediction = model.predict(img_array)\n",
        "    predicted_class = np.argmax(prediction, axis=1)[0]\n",
        "\n",
        "    # Display the image and the predicted class\n",
        "    plt.imshow(img_array.squeeze(), cmap='gray')  # Remove 'cmap' if image is in RGB\n",
        "    plt.title(f'Predicted Gesture: {gesture_classes[predicted_class]}')\n",
        "    plt.axis('off')\n",
        "    plt.show()\n",
        "\n",
        "# Load the trained model\n",
        "loaded_model = load_model('hand_gesture_recognition_model.h5')\n",
        "\n",
        "# Example image path (change this to any image you want to test)\n",
        "test_img_path = '/kaggle/input/leapgestrecog/leapGestRecog/04/04_fist_moved/frame_04_04_0004.png'  # Replace with your image path\n",
        "img_size = 224  # Ensure this matches the size used during training\n",
        "\n",
        "# Predict and display the gesture\n",
        "load_predict_and_display(test_img_path, loaded_model, img_size)"
      ],
      "metadata": {
        "execution": {
          "iopub.status.busy": "2024-07-26T18:08:31.15124Z",
          "iopub.execute_input": "2024-07-26T18:08:31.151963Z",
          "iopub.status.idle": "2024-07-26T18:08:32.1488Z",
          "shell.execute_reply.started": "2024-07-26T18:08:31.151928Z",
          "shell.execute_reply": "2024-07-26T18:08:32.147831Z"
        },
        "trusted": true,
        "id": "hK1wd_6fxmKt"
      },
      "execution_count": null,
      "outputs": []
    },
    {
      "cell_type": "code",
      "source": [
        "test_img_path = '/kaggle/input/leapgestrecog/leapGestRecog/00/05_thumb/frame_00_05_0005.png'  # Replace with your image path\n",
        "img_size = 224  # Ensure this matches the size used during training\n",
        "\n",
        "# Predict and display the gesture\n",
        "load_predict_and_display(test_img_path, loaded_model, img_size)"
      ],
      "metadata": {
        "execution": {
          "iopub.status.busy": "2024-07-26T18:10:30.154977Z",
          "iopub.execute_input": "2024-07-26T18:10:30.155758Z",
          "iopub.status.idle": "2024-07-26T18:10:30.383177Z",
          "shell.execute_reply.started": "2024-07-26T18:10:30.155725Z",
          "shell.execute_reply": "2024-07-26T18:10:30.382242Z"
        },
        "trusted": true,
        "id": "7OwyLcwBxmKt"
      },
      "execution_count": null,
      "outputs": []
    },
    {
      "cell_type": "code",
      "source": [
        "test_img_path = '/kaggle/input/leapgestrecog/leapGestRecog/00/01_palm/frame_00_01_0022.png'  # Replace with your image path\n",
        "img_size = 224  # Ensure this matches the size used during training\n",
        "\n",
        "# Predict and display the gesture\n",
        "load_predict_and_display(test_img_path, loaded_model, img_size)"
      ],
      "metadata": {
        "execution": {
          "iopub.status.busy": "2024-07-26T18:11:35.638816Z",
          "iopub.execute_input": "2024-07-26T18:11:35.639817Z",
          "iopub.status.idle": "2024-07-26T18:11:35.849265Z",
          "shell.execute_reply.started": "2024-07-26T18:11:35.639781Z",
          "shell.execute_reply": "2024-07-26T18:11:35.848217Z"
        },
        "trusted": true,
        "id": "uyeDvFxVxmKu"
      },
      "execution_count": null,
      "outputs": []
    },
    {
      "cell_type": "markdown",
      "source": [
        "# Thank You !"
      ],
      "metadata": {
        "id": "nzb4iEv3xmKu"
      }
    }
  ]
}